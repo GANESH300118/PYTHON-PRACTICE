{
  "nbformat": 4,
  "nbformat_minor": 0,
  "metadata": {
    "colab": {
      "name": "list.ipynb",
      "provenance": [],
      "collapsed_sections": [],
      "authorship_tag": "ABX9TyPb6IFgQSeIKtlGMC9fht5w",
      "include_colab_link": true
    },
    "kernelspec": {
      "name": "python3",
      "display_name": "Python 3"
    },
    "language_info": {
      "name": "python"
    }
  },
  "cells": [
    {
      "cell_type": "markdown",
      "metadata": {
        "id": "view-in-github",
        "colab_type": "text"
      },
      "source": [
        "<a href=\"https://colab.research.google.com/github/GANESH300118/PYTHON-PRACTICE/blob/main/list.ipynb\" target=\"_parent\"><img src=\"https://colab.research.google.com/assets/colab-badge.svg\" alt=\"Open In Colab\"/></a>"
      ]
    },
    {
      "cell_type": "code",
      "execution_count": 51,
      "metadata": {
        "colab": {
          "base_uri": "https://localhost:8080/"
        },
        "id": "eSL3rkR14cBW",
        "outputId": "224a70a2-c895-448b-d596-7b1be1e0b0a4"
      },
      "outputs": [
        {
          "output_type": "stream",
          "name": "stdout",
          "text": [
            "mango\n",
            "mango\n",
            "pineapple\n",
            "The size of friut is 7\n",
            "['apple', 'orange', 'blueberry', 'bannana', 'pineapple', 'mango', 'grapes']\n",
            "['apple', 'orange', 'bannana', 'pineapple', 'mango', 'grapes']\n",
            "['grapes', 'mango', 'pineapple', 'bannana', 'orange', 'apple']\n",
            "['apple', 'bannana', 'grapes', 'mango', 'orange', 'pineapple']\n",
            "['apple', 'bannana', 'grapes', 'mango', 'orange', 'pineapple']\n",
            "['apple', 'bannana', 'grapes', 'mango', 'orange']\n",
            "['apple', 'bannana', 'grapes']\n",
            "['mango', 'orange', 'pineapple']\n",
            "[]\n"
          ]
        }
      ],
      "source": [
        "friut=['apple', 'orange', 'bannana', 'pineapple', 'mango']\n",
        "print(friut[4])\n",
        "print(friut[-1])\n",
        "print(friut[-2])\n",
        "friut.append('grapes')\n",
        "friut.insert(2,'blueberry')\n",
        "print(\"The size of friut is\",len(friut))\n",
        "print(friut)\n",
        "friut.pop(2)\n",
        "print(friut)\n",
        "(friut.reverse())\n",
        "print(friut)\n",
        "friut.sort()\n",
        "print(friut)\n",
        "b=friut.copy()\n",
        "print(b)\n",
        "print(friut[0:5])\n",
        "print(friut[:3])\n",
        "print(friut[3:])\n",
        "b.clear()\n",
        "print(b)"
      ]
    },
    {
      "cell_type": "code",
      "source": [
        "N=[12,16,45,63]\n",
        "m=[33,69,99,109]\n",
        "print(m[0]+N[2])\n",
        "print(N[0]+N[1]+N[2]+N[3])\n",
        "print(N[0:4]+m[0:4])"
      ],
      "metadata": {
        "colab": {
          "base_uri": "https://localhost:8080/"
        },
        "id": "dwqzQDS45H-g",
        "outputId": "1e4ff4dd-9038-4902-a585-016c555de4d0"
      },
      "execution_count": 20,
      "outputs": [
        {
          "output_type": "stream",
          "name": "stdout",
          "text": [
            "[12, 16, 45, 63, 33, 69, 99, 109]\n",
            "78\n",
            "136\n"
          ]
        }
      ]
    },
    {
      "cell_type": "code",
      "source": [
        "a=[1,[3,4,5],7,9,6]\n",
        "print(a[1])\n",
        "print(a[0]+a[3])"
      ],
      "metadata": {
        "colab": {
          "base_uri": "https://localhost:8080/"
        },
        "id": "tmYlc8sO8QIe",
        "outputId": "97bde935-68a0-4dc6-d809-49983d7bae1a"
      },
      "execution_count": 27,
      "outputs": [
        {
          "output_type": "stream",
          "name": "stdout",
          "text": [
            "[3, 4, 5]\n",
            "10\n"
          ]
        }
      ]
    },
    {
      "cell_type": "code",
      "source": [
        "a = []\n",
        "for i in range(int(input())):\n",
        "    a.append(int(input()))\n",
        "print(a)"
      ],
      "metadata": {
        "colab": {
          "base_uri": "https://localhost:8080/"
        },
        "id": "MmsrLgcG_eN9",
        "outputId": "140fe598-4730-4c2e-fba4-0b0f0f4dcc5a"
      },
      "execution_count": 29,
      "outputs": [
        {
          "output_type": "stream",
          "name": "stdout",
          "text": [
            "5\n",
            "1\n",
            "2\n",
            "3\n",
            "4\n",
            "5\n",
            "[1, 2, 3, 4, 5]\n"
          ]
        }
      ]
    },
    {
      "cell_type": "code",
      "source": [
        "thislist = [\"apple\", \"banana\", \"cherry\"]\n",
        "thistuple = (\"kiwi\", \"orange\")\n",
        "thislist.extend(thistuple)\n",
        "print(thislist)"
      ],
      "metadata": {
        "colab": {
          "base_uri": "https://localhost:8080/"
        },
        "id": "m5Y-qcQMER29",
        "outputId": "5437528e-c3f3-41e8-f753-3dfe7421197a"
      },
      "execution_count": 38,
      "outputs": [
        {
          "output_type": "stream",
          "name": "stdout",
          "text": [
            "['apple', 'banana', 'cherry', 'kiwi', 'orange']\n"
          ]
        }
      ]
    },
    {
      "cell_type": "code",
      "source": [
        "friut=['apple', 'orange', 'bannana', 'pineapple', 'mango']\n",
        "print(friut[4])\n",
        "print(friut[-1])\n",
        "print(friut[-2])\n",
        "friut.append('grapes')\n",
        "print(friut)"
      ],
      "metadata": {
        "colab": {
          "base_uri": "https://localhost:8080/"
        },
        "id": "PFepdcf5JVKc",
        "outputId": "403b3052-d918-4123-94b1-41066a648041"
      },
      "execution_count": 40,
      "outputs": [
        {
          "output_type": "stream",
          "name": "stdout",
          "text": [
            "mango\n",
            "mango\n",
            "pineapple\n",
            "['apple', 'orange', 'bannana', 'pineapple', 'mango', 'grapes']\n"
          ]
        }
      ]
    },
    {
      "cell_type": "code",
      "source": [
        "friut=['apple', 'orange', 'bannana', 'pineapple', 'mango']\n",
        "print(friut[4])\n",
        "print(friut[-1])\n",
        "print(friut[-2])\n",
        "friut.insert(2,'blueberry')\n",
        "print(friut)"
      ],
      "metadata": {
        "colab": {
          "base_uri": "https://localhost:8080/"
        },
        "id": "t1KFToqlJkBr",
        "outputId": "a3e8115b-7a19-4a6c-8cab-af3f98d808c5"
      },
      "execution_count": 41,
      "outputs": [
        {
          "output_type": "stream",
          "name": "stdout",
          "text": [
            "mango\n",
            "mango\n",
            "pineapple\n",
            "['apple', 'orange', 'blueberry', 'bannana', 'pineapple', 'mango']\n"
          ]
        }
      ]
    },
    {
      "cell_type": "code",
      "source": [
        "thislist = [\"apple\", \"banana\", \"cherry\"]\n",
        "thislist[1] = \"blackcurrant\"\n",
        "print(thislist)"
      ],
      "metadata": {
        "colab": {
          "base_uri": "https://localhost:8080/"
        },
        "id": "VtaNKx7DJxW7",
        "outputId": "cb42441d-b521-4581-d9e5-6ae2260a1657"
      },
      "execution_count": 52,
      "outputs": [
        {
          "output_type": "stream",
          "name": "stdout",
          "text": [
            "['apple', 'blackcurrant', 'cherry']\n"
          ]
        }
      ]
    },
    {
      "cell_type": "code",
      "source": [
        "thislist = [\"apple\", \"banana\", \"cherry\", \"orange\", \"kiwi\", \"mango\"]\n",
        "thislist[1:3] = [\"blackcurrant\", \"watermelon\"]\n",
        "print(thislist)\n"
      ],
      "metadata": {
        "colab": {
          "base_uri": "https://localhost:8080/"
        },
        "id": "KDPemyQnNCFL",
        "outputId": "da03ad0c-a957-4c74-a1d0-6e87d7e2b675"
      },
      "execution_count": 53,
      "outputs": [
        {
          "output_type": "stream",
          "name": "stdout",
          "text": [
            "['apple', 'blackcurrant', 'watermelon', 'orange', 'kiwi', 'mango']\n"
          ]
        }
      ]
    },
    {
      "cell_type": "code",
      "source": [
        ""
      ],
      "metadata": {
        "id": "sqnBna74NNIa"
      },
      "execution_count": null,
      "outputs": []
    }
  ]
}