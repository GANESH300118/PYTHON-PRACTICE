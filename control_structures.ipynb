{
  "nbformat": 4,
  "nbformat_minor": 0,
  "metadata": {
    "colab": {
      "name": "control structures.ipynb",
      "provenance": [],
      "collapsed_sections": [],
      "authorship_tag": "ABX9TyNnau+idBRooJEAEyz5fiuR",
      "include_colab_link": true
    },
    "kernelspec": {
      "name": "python3",
      "display_name": "Python 3"
    },
    "language_info": {
      "name": "python"
    }
  },
  "cells": [
    {
      "cell_type": "markdown",
      "metadata": {
        "id": "view-in-github",
        "colab_type": "text"
      },
      "source": [
        "<a href=\"https://colab.research.google.com/github/GANESH300118/PYTHON-PRACTICE/blob/main/control_structures.ipynb\" target=\"_parent\"><img src=\"https://colab.research.google.com/assets/colab-badge.svg\" alt=\"Open In Colab\"/></a>"
      ]
    },
    {
      "cell_type": "code",
      "execution_count": null,
      "metadata": {
        "colab": {
          "base_uri": "https://localhost:8080/"
        },
        "id": "TklGiKv3Po-H",
        "outputId": "63e2994d-70eb-4699-be67-50d4b575f11b"
      },
      "outputs": [
        {
          "output_type": "stream",
          "name": "stdout",
          "text": [
            "Enter age of the person19\n",
            "Eligible\n"
          ]
        }
      ],
      "source": [
        "# find out the person is eligible for voting or not.\n",
        "age=int(input(\"Enter age of the person\"))\n",
        "if age>=18:\n",
        "   print(\"Eligible\")\n",
        "else:\n",
        "   print(\"Not Eligible\")"
      ]
    },
    {
      "cell_type": "code",
      "source": [
        "# find out the person is eligible for voting or not.\n",
        "age=19\n",
        "if age>=18:\n",
        "  print(\"Eligible\")\n",
        "else:\n",
        "  print(\"Not Eligible\")"
      ],
      "metadata": {
        "colab": {
          "base_uri": "https://localhost:8080/"
        },
        "id": "EafVNdKpQdgh",
        "outputId": "270604c2-6dd5-4356-8dc2-22fbf1233804"
      },
      "execution_count": null,
      "outputs": [
        {
          "output_type": "stream",
          "name": "stdout",
          "text": [
            "Eligible\n"
          ]
        }
      ]
    },
    {
      "cell_type": "code",
      "source": [
        "# find out the maximum of three numbers.\n",
        "a=int(input(\"Enter the first number\"))\n",
        "b=int(input(\"Enter the second number\"))\n",
        "c=int(input(\"Enter the third number\"))\n",
        "if (a<b and b>c):\n",
        "  print(\"The Gretest number among these is\",b)\n",
        "elif(b<a and a>c):\n",
        "  print(\"The greatest number among these is\",a)\n",
        "else:\n",
        "  print(\"The greatest among these is\",c)"
      ],
      "metadata": {
        "colab": {
          "base_uri": "https://localhost:8080/"
        },
        "id": "Hv201jMdRuPv",
        "outputId": "09cbc07b-3c5e-4e40-9212-2b04287df716"
      },
      "execution_count": null,
      "outputs": [
        {
          "output_type": "stream",
          "name": "stdout",
          "text": [
            "Enter the first number5\n",
            "Enter the second number6\n",
            "Enter the third number8\n",
            "The greatest among these is 8\n"
          ]
        }
      ]
    },
    {
      "cell_type": "code",
      "source": [
        "# give 5 subject marks\n",
        "a=int(input(\"Enter marks\"))\n",
        "b=int(input(\"Enter marks\"))\n",
        "c=int(input(\"Enter marks\"))\n",
        "d=int(input(\"Enter marks\"))\n",
        "e=int(input(\"Enter marks\"))\n",
        "if a>b and a>c and a>d and a>e:\n",
        "  print(\"The highest marks are\",a)\n",
        "elif b>a and b>c and b>d and b>e:\n",
        "  print(\"The highest marks are\",b)\n",
        "elif c>a and c>b and c>d and c>e:\n",
        "  print(\"The highest marks are\",c)\n",
        "elif d>a and d>b and d>c and d>e:\n",
        "    print(\"The highest marks are\",d)\n",
        "else:\n",
        "  print(\"The highest marks are\",e)\n"
      ],
      "metadata": {
        "colab": {
          "base_uri": "https://localhost:8080/"
        },
        "id": "3nBj_gVxTfI_",
        "outputId": "1e7c7289-c6a0-42f2-c635-da19d57bede2"
      },
      "execution_count": null,
      "outputs": [
        {
          "output_type": "stream",
          "name": "stdout",
          "text": [
            "Enter marks95\n",
            "Enter marks96\n",
            "Enter marks97\n",
            "Enter marks93\n",
            "Enter marks88\n",
            "The highest marks are 97\n"
          ]
        }
      ]
    },
    {
      "cell_type": "code",
      "source": [
        "# checking issoceles, equilateral or scalen triangle.\n",
        "a=int(input(\"Enter the 1st side of a triangle\"))\n",
        "b=int(input(\"Enter the 2nd side of a triangle\"))\n",
        "c=int(input(\"Enter the 3rd side of a triangle\"))\n",
        "if a==b==c:\n",
        "  print(\"Equilateral triangle\")\n",
        "elif a!=b and b!=c and c!=a:\n",
        "  print(\"Scalen triangle\")\n",
        "else:\n",
        "  print(\"Issociles triangle\")"
      ],
      "metadata": {
        "colab": {
          "base_uri": "https://localhost:8080/"
        },
        "id": "jZOThSf1Wyf_",
        "outputId": "71d22548-eb25-414f-fd7d-52b5d1a1c4e6"
      },
      "execution_count": null,
      "outputs": [
        {
          "output_type": "stream",
          "name": "stdout",
          "text": [
            "Enter the 1st side of a triangle5\n",
            "Enter the 2nd side of a triangle6\n",
            "Enter the 3rd side of a triangle6\n",
            "Issociles triangle\n"
          ]
        }
      ]
    },
    {
      "cell_type": "code",
      "source": [
        "# Checking leap year.\n",
        "a=int(input(\"Enter the year\"))\n",
        "if a%4==0 and a%100!=0:\n",
        "  print(\"It is a leap year\")\n",
        "elif a%400==0 and a%100!=0:\n",
        "  print(\"It is a leap year\")\n",
        "else:\n",
        "  print(\"Not a leap year\")"
      ],
      "metadata": {
        "colab": {
          "base_uri": "https://localhost:8080/"
        },
        "id": "g5ZR2d_nZMmt",
        "outputId": "e2e9be68-56c3-46bf-8225-14cc3dc99bba"
      },
      "execution_count": null,
      "outputs": [
        {
          "output_type": "stream",
          "name": "stdout",
          "text": [
            "Enter the year2012\n",
            "It is a leap year\n"
          ]
        }
      ]
    },
    {
      "cell_type": "code",
      "source": [
        "a=int(input(\"Enter the first number\"))\n",
        "b=int(input(\"Enter the second number\"))\n",
        "c=int(input(\"Enter the third number\"))\n",
        "if a<b and b<c:\n",
        "  print(\"The minimum number\",a)\n",
        "elif b<a and a<c:\n",
        "  print(\"The minimum number\",b)\n",
        "else:\n",
        "  print(\"The minimum number\",c)"
      ],
      "metadata": {
        "colab": {
          "base_uri": "https://localhost:8080/"
        },
        "id": "yx0V3t9va0x8",
        "outputId": "90a25c1c-a8fe-4d31-f9c4-8b920245ceb0"
      },
      "execution_count": null,
      "outputs": [
        {
          "output_type": "stream",
          "name": "stdout",
          "text": [
            "Enter the first number5\n",
            "Enter the second number6\n",
            "Enter the third number8\n",
            "The minimum number 5\n"
          ]
        }
      ]
    },
    {
      "cell_type": "code",
      "source": [
        "# Divisibilty test of a number by 5 and 11.\n",
        "a=int(input(\"Enter the number\"))\n",
        "if a%5==0 and a%11==0:\n",
        "  print(\"This number is divisible by both 5 and 11\")\n",
        "elif a%5==0:\n",
        "  print(\"This number is divisible by 5 only\")\n",
        "elif a%11==0:\n",
        "  print(\"This number is divisible by 11 only\")\n",
        "else:\n",
        "  print(\"This number is not divisible by both 5 and 11\")"
      ],
      "metadata": {
        "colab": {
          "base_uri": "https://localhost:8080/"
        },
        "id": "TY05bCdUdQW7",
        "outputId": "0f9a4093-6943-4adf-905f-caf58e61859e"
      },
      "execution_count": null,
      "outputs": [
        {
          "output_type": "stream",
          "name": "stdout",
          "text": [
            "Enter the number55\n",
            "This number is divisible by both 5 and 11\n"
          ]
        }
      ]
    },
    {
      "cell_type": "code",
      "source": [
        "# Finding roots of a qudratic equation.\n",
        "a=int(input(\"Enter the co-efficient of x^2\"))\n",
        "b=int(input(\"Enter the co-efficient of x\"))\n",
        "c=int(input(\"Enter the value of constant\"))\n",
        "d=math.sqrt((b*b)-4*a*c)\n",
        "x=(-b+d)/2*a\n",
        "y=(-b-d)/2*a\n",
        "if d>0:\n",
        "  print(\"Roots are real\")\n",
        "elif d==0:\n",
        "  print(\"Only one root\")\n",
        "else:\n",
        "  print(\"Roots are imaginary\")\n",
        "print(\"The roots are\")\n",
        "print(x)\n",
        "print(y)"
      ],
      "metadata": {
        "id": "Ih8trp8ke5x6",
        "colab": {
          "base_uri": "https://localhost:8080/",
          "height": 286
        },
        "outputId": "ed9e1fbc-3a86-4908-b072-96ba9897f3eb"
      },
      "execution_count": 8,
      "outputs": [
        {
          "name": "stdout",
          "output_type": "stream",
          "text": [
            "Enter the co-efficient of x^26\n",
            "Enter the co-efficient of x4\n",
            "Enter the value of constant2\n"
          ]
        },
        {
          "output_type": "error",
          "ename": "ValueError",
          "evalue": "ignored",
          "traceback": [
            "\u001b[0;31m---------------------------------------------------------------------------\u001b[0m",
            "\u001b[0;31mValueError\u001b[0m                                Traceback (most recent call last)",
            "\u001b[0;32m<ipython-input-8-6526cb73f0c1>\u001b[0m in \u001b[0;36m<module>\u001b[0;34m()\u001b[0m\n\u001b[1;32m      3\u001b[0m \u001b[0mb\u001b[0m\u001b[0;34m=\u001b[0m\u001b[0mint\u001b[0m\u001b[0;34m(\u001b[0m\u001b[0minput\u001b[0m\u001b[0;34m(\u001b[0m\u001b[0;34m\"Enter the co-efficient of x\"\u001b[0m\u001b[0;34m)\u001b[0m\u001b[0;34m)\u001b[0m\u001b[0;34m\u001b[0m\u001b[0;34m\u001b[0m\u001b[0m\n\u001b[1;32m      4\u001b[0m \u001b[0mc\u001b[0m\u001b[0;34m=\u001b[0m\u001b[0mint\u001b[0m\u001b[0;34m(\u001b[0m\u001b[0minput\u001b[0m\u001b[0;34m(\u001b[0m\u001b[0;34m\"Enter the value of constant\"\u001b[0m\u001b[0;34m)\u001b[0m\u001b[0;34m)\u001b[0m\u001b[0;34m\u001b[0m\u001b[0;34m\u001b[0m\u001b[0m\n\u001b[0;32m----> 5\u001b[0;31m \u001b[0md\u001b[0m\u001b[0;34m=\u001b[0m\u001b[0mmath\u001b[0m\u001b[0;34m.\u001b[0m\u001b[0msqrt\u001b[0m\u001b[0;34m(\u001b[0m\u001b[0;34m(\u001b[0m\u001b[0mb\u001b[0m\u001b[0;34m*\u001b[0m\u001b[0mb\u001b[0m\u001b[0;34m)\u001b[0m\u001b[0;34m-\u001b[0m\u001b[0;36m4\u001b[0m\u001b[0;34m*\u001b[0m\u001b[0ma\u001b[0m\u001b[0;34m*\u001b[0m\u001b[0mc\u001b[0m\u001b[0;34m)\u001b[0m\u001b[0;34m\u001b[0m\u001b[0;34m\u001b[0m\u001b[0m\n\u001b[0m\u001b[1;32m      6\u001b[0m \u001b[0mx\u001b[0m\u001b[0;34m=\u001b[0m\u001b[0;34m(\u001b[0m\u001b[0;34m-\u001b[0m\u001b[0mb\u001b[0m\u001b[0;34m+\u001b[0m\u001b[0md\u001b[0m\u001b[0;34m)\u001b[0m\u001b[0;34m/\u001b[0m\u001b[0;36m2\u001b[0m\u001b[0;34m*\u001b[0m\u001b[0ma\u001b[0m\u001b[0;34m\u001b[0m\u001b[0;34m\u001b[0m\u001b[0m\n\u001b[1;32m      7\u001b[0m \u001b[0my\u001b[0m\u001b[0;34m=\u001b[0m\u001b[0;34m(\u001b[0m\u001b[0;34m-\u001b[0m\u001b[0mb\u001b[0m\u001b[0;34m-\u001b[0m\u001b[0md\u001b[0m\u001b[0;34m)\u001b[0m\u001b[0;34m/\u001b[0m\u001b[0;36m2\u001b[0m\u001b[0;34m*\u001b[0m\u001b[0ma\u001b[0m\u001b[0;34m\u001b[0m\u001b[0;34m\u001b[0m\u001b[0m\n",
            "\u001b[0;31mValueError\u001b[0m: math domain error"
          ]
        }
      ]
    },
    {
      "cell_type": "code",
      "source": [
        ""
      ],
      "metadata": {
        "id": "u2fSLH1giCu1"
      },
      "execution_count": null,
      "outputs": []
    }
  ]
}